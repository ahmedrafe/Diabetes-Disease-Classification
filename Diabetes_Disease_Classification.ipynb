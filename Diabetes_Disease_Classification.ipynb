{
  "nbformat": 4,
  "nbformat_minor": 0,
  "metadata": {
    "colab": {
      "name": "diabetes Disease Classification.ipynb",
      "provenance": [],
      "toc_visible": true
    },
    "kernelspec": {
      "name": "python3",
      "display_name": "Python 3"
    }
  },
  "cells": [
    {
      "cell_type": "markdown",
      "metadata": {
        "id": "4TVFFE9lHr3D"
      },
      "source": [
        "#importing Libraries "
      ]
    },
    {
      "cell_type": "code",
      "metadata": {
        "id": "pK-sK9eMVzb8"
      },
      "source": [
        "import numpy as np\n",
        "import pandas as pd\n",
        "import matplotlib.pyplot as plt\n",
        "import seaborn as sns"
      ],
      "execution_count": 1,
      "outputs": []
    },
    {
      "cell_type": "markdown",
      "metadata": {
        "id": "dZX_gIzhHvZT"
      },
      "source": [
        "# Importing the dataset"
      ]
    },
    {
      "cell_type": "code",
      "metadata": {
        "id": "hLISXWCsXs9P",
        "outputId": "02fdaaab-e80e-41a3-c3e4-1eed2307c801",
        "colab": {
          "base_uri": "https://localhost:8080/",
          "height": 191
        }
      },
      "source": [
        "dataset= pd.read_csv('diabetes.csv')\n",
        "X=dataset.iloc[:,:-1]\n",
        "y=dataset.iloc[:,-1]\n",
        "dataset.head()"
      ],
      "execution_count": 2,
      "outputs": [
        {
          "output_type": "execute_result",
          "data": {
            "text/html": [
              "<div>\n",
              "<style scoped>\n",
              "    .dataframe tbody tr th:only-of-type {\n",
              "        vertical-align: middle;\n",
              "    }\n",
              "\n",
              "    .dataframe tbody tr th {\n",
              "        vertical-align: top;\n",
              "    }\n",
              "\n",
              "    .dataframe thead th {\n",
              "        text-align: right;\n",
              "    }\n",
              "</style>\n",
              "<table border=\"1\" class=\"dataframe\">\n",
              "  <thead>\n",
              "    <tr style=\"text-align: right;\">\n",
              "      <th></th>\n",
              "      <th>Pregnancies</th>\n",
              "      <th>Glucose</th>\n",
              "      <th>BloodPressure</th>\n",
              "      <th>SkinThickness</th>\n",
              "      <th>Insulin</th>\n",
              "      <th>BMI</th>\n",
              "      <th>DiabetesPedigreeFunction</th>\n",
              "      <th>Age</th>\n",
              "      <th>Outcome</th>\n",
              "    </tr>\n",
              "  </thead>\n",
              "  <tbody>\n",
              "    <tr>\n",
              "      <th>0</th>\n",
              "      <td>2</td>\n",
              "      <td>138</td>\n",
              "      <td>62</td>\n",
              "      <td>35</td>\n",
              "      <td>0</td>\n",
              "      <td>33.6</td>\n",
              "      <td>0.127</td>\n",
              "      <td>47</td>\n",
              "      <td>1</td>\n",
              "    </tr>\n",
              "    <tr>\n",
              "      <th>1</th>\n",
              "      <td>0</td>\n",
              "      <td>84</td>\n",
              "      <td>82</td>\n",
              "      <td>31</td>\n",
              "      <td>125</td>\n",
              "      <td>38.2</td>\n",
              "      <td>0.233</td>\n",
              "      <td>23</td>\n",
              "      <td>0</td>\n",
              "    </tr>\n",
              "    <tr>\n",
              "      <th>2</th>\n",
              "      <td>0</td>\n",
              "      <td>145</td>\n",
              "      <td>0</td>\n",
              "      <td>0</td>\n",
              "      <td>0</td>\n",
              "      <td>44.2</td>\n",
              "      <td>0.630</td>\n",
              "      <td>31</td>\n",
              "      <td>1</td>\n",
              "    </tr>\n",
              "    <tr>\n",
              "      <th>3</th>\n",
              "      <td>0</td>\n",
              "      <td>135</td>\n",
              "      <td>68</td>\n",
              "      <td>42</td>\n",
              "      <td>250</td>\n",
              "      <td>42.3</td>\n",
              "      <td>0.365</td>\n",
              "      <td>24</td>\n",
              "      <td>1</td>\n",
              "    </tr>\n",
              "    <tr>\n",
              "      <th>4</th>\n",
              "      <td>1</td>\n",
              "      <td>139</td>\n",
              "      <td>62</td>\n",
              "      <td>41</td>\n",
              "      <td>480</td>\n",
              "      <td>40.7</td>\n",
              "      <td>0.536</td>\n",
              "      <td>21</td>\n",
              "      <td>0</td>\n",
              "    </tr>\n",
              "  </tbody>\n",
              "</table>\n",
              "</div>"
            ],
            "text/plain": [
              "   Pregnancies  Glucose  BloodPressure  ...  DiabetesPedigreeFunction  Age  Outcome\n",
              "0            2      138             62  ...                     0.127   47        1\n",
              "1            0       84             82  ...                     0.233   23        0\n",
              "2            0      145              0  ...                     0.630   31        1\n",
              "3            0      135             68  ...                     0.365   24        1\n",
              "4            1      139             62  ...                     0.536   21        0\n",
              "\n",
              "[5 rows x 9 columns]"
            ]
          },
          "metadata": {
            "tags": []
          },
          "execution_count": 2
        }
      ]
    },
    {
      "cell_type": "code",
      "metadata": {
        "id": "y9bGxcwMYFLs",
        "outputId": "69660db4-fc08-4c4e-bd88-de5daf46000e",
        "colab": {
          "base_uri": "https://localhost:8080/",
          "height": 277
        }
      },
      "source": [
        "dataset.info()"
      ],
      "execution_count": 3,
      "outputs": [
        {
          "output_type": "stream",
          "text": [
            "<class 'pandas.core.frame.DataFrame'>\n",
            "RangeIndex: 2000 entries, 0 to 1999\n",
            "Data columns (total 9 columns):\n",
            " #   Column                    Non-Null Count  Dtype  \n",
            "---  ------                    --------------  -----  \n",
            " 0   Pregnancies               2000 non-null   int64  \n",
            " 1   Glucose                   2000 non-null   int64  \n",
            " 2   BloodPressure             2000 non-null   int64  \n",
            " 3   SkinThickness             2000 non-null   int64  \n",
            " 4   Insulin                   2000 non-null   int64  \n",
            " 5   BMI                       2000 non-null   float64\n",
            " 6   DiabetesPedigreeFunction  2000 non-null   float64\n",
            " 7   Age                       2000 non-null   int64  \n",
            " 8   Outcome                   2000 non-null   int64  \n",
            "dtypes: float64(2), int64(7)\n",
            "memory usage: 140.8 KB\n"
          ],
          "name": "stdout"
        }
      ]
    },
    {
      "cell_type": "code",
      "metadata": {
        "id": "a77ZmZOiYsIP",
        "outputId": "3b61bf14-a7e2-4a9c-92ad-68558f88dd1c",
        "colab": {
          "base_uri": "https://localhost:8080/",
          "height": 277
        }
      },
      "source": [
        "dataset.describe()"
      ],
      "execution_count": 4,
      "outputs": [
        {
          "output_type": "execute_result",
          "data": {
            "text/html": [
              "<div>\n",
              "<style scoped>\n",
              "    .dataframe tbody tr th:only-of-type {\n",
              "        vertical-align: middle;\n",
              "    }\n",
              "\n",
              "    .dataframe tbody tr th {\n",
              "        vertical-align: top;\n",
              "    }\n",
              "\n",
              "    .dataframe thead th {\n",
              "        text-align: right;\n",
              "    }\n",
              "</style>\n",
              "<table border=\"1\" class=\"dataframe\">\n",
              "  <thead>\n",
              "    <tr style=\"text-align: right;\">\n",
              "      <th></th>\n",
              "      <th>Pregnancies</th>\n",
              "      <th>Glucose</th>\n",
              "      <th>BloodPressure</th>\n",
              "      <th>SkinThickness</th>\n",
              "      <th>Insulin</th>\n",
              "      <th>BMI</th>\n",
              "      <th>DiabetesPedigreeFunction</th>\n",
              "      <th>Age</th>\n",
              "      <th>Outcome</th>\n",
              "    </tr>\n",
              "  </thead>\n",
              "  <tbody>\n",
              "    <tr>\n",
              "      <th>count</th>\n",
              "      <td>2000.000000</td>\n",
              "      <td>2000.000000</td>\n",
              "      <td>2000.000000</td>\n",
              "      <td>2000.000000</td>\n",
              "      <td>2000.000000</td>\n",
              "      <td>2000.000000</td>\n",
              "      <td>2000.000000</td>\n",
              "      <td>2000.000000</td>\n",
              "      <td>2000.000000</td>\n",
              "    </tr>\n",
              "    <tr>\n",
              "      <th>mean</th>\n",
              "      <td>3.703500</td>\n",
              "      <td>121.182500</td>\n",
              "      <td>69.145500</td>\n",
              "      <td>20.935000</td>\n",
              "      <td>80.254000</td>\n",
              "      <td>32.193000</td>\n",
              "      <td>0.470930</td>\n",
              "      <td>33.090500</td>\n",
              "      <td>0.342000</td>\n",
              "    </tr>\n",
              "    <tr>\n",
              "      <th>std</th>\n",
              "      <td>3.306063</td>\n",
              "      <td>32.068636</td>\n",
              "      <td>19.188315</td>\n",
              "      <td>16.103243</td>\n",
              "      <td>111.180534</td>\n",
              "      <td>8.149901</td>\n",
              "      <td>0.323553</td>\n",
              "      <td>11.786423</td>\n",
              "      <td>0.474498</td>\n",
              "    </tr>\n",
              "    <tr>\n",
              "      <th>min</th>\n",
              "      <td>0.000000</td>\n",
              "      <td>0.000000</td>\n",
              "      <td>0.000000</td>\n",
              "      <td>0.000000</td>\n",
              "      <td>0.000000</td>\n",
              "      <td>0.000000</td>\n",
              "      <td>0.078000</td>\n",
              "      <td>21.000000</td>\n",
              "      <td>0.000000</td>\n",
              "    </tr>\n",
              "    <tr>\n",
              "      <th>25%</th>\n",
              "      <td>1.000000</td>\n",
              "      <td>99.000000</td>\n",
              "      <td>63.500000</td>\n",
              "      <td>0.000000</td>\n",
              "      <td>0.000000</td>\n",
              "      <td>27.375000</td>\n",
              "      <td>0.244000</td>\n",
              "      <td>24.000000</td>\n",
              "      <td>0.000000</td>\n",
              "    </tr>\n",
              "    <tr>\n",
              "      <th>50%</th>\n",
              "      <td>3.000000</td>\n",
              "      <td>117.000000</td>\n",
              "      <td>72.000000</td>\n",
              "      <td>23.000000</td>\n",
              "      <td>40.000000</td>\n",
              "      <td>32.300000</td>\n",
              "      <td>0.376000</td>\n",
              "      <td>29.000000</td>\n",
              "      <td>0.000000</td>\n",
              "    </tr>\n",
              "    <tr>\n",
              "      <th>75%</th>\n",
              "      <td>6.000000</td>\n",
              "      <td>141.000000</td>\n",
              "      <td>80.000000</td>\n",
              "      <td>32.000000</td>\n",
              "      <td>130.000000</td>\n",
              "      <td>36.800000</td>\n",
              "      <td>0.624000</td>\n",
              "      <td>40.000000</td>\n",
              "      <td>1.000000</td>\n",
              "    </tr>\n",
              "    <tr>\n",
              "      <th>max</th>\n",
              "      <td>17.000000</td>\n",
              "      <td>199.000000</td>\n",
              "      <td>122.000000</td>\n",
              "      <td>110.000000</td>\n",
              "      <td>744.000000</td>\n",
              "      <td>80.600000</td>\n",
              "      <td>2.420000</td>\n",
              "      <td>81.000000</td>\n",
              "      <td>1.000000</td>\n",
              "    </tr>\n",
              "  </tbody>\n",
              "</table>\n",
              "</div>"
            ],
            "text/plain": [
              "       Pregnancies      Glucose  ...          Age      Outcome\n",
              "count  2000.000000  2000.000000  ...  2000.000000  2000.000000\n",
              "mean      3.703500   121.182500  ...    33.090500     0.342000\n",
              "std       3.306063    32.068636  ...    11.786423     0.474498\n",
              "min       0.000000     0.000000  ...    21.000000     0.000000\n",
              "25%       1.000000    99.000000  ...    24.000000     0.000000\n",
              "50%       3.000000   117.000000  ...    29.000000     0.000000\n",
              "75%       6.000000   141.000000  ...    40.000000     1.000000\n",
              "max      17.000000   199.000000  ...    81.000000     1.000000\n",
              "\n",
              "[8 rows x 9 columns]"
            ]
          },
          "metadata": {
            "tags": []
          },
          "execution_count": 4
        }
      ]
    },
    {
      "cell_type": "code",
      "metadata": {
        "id": "1BpE1cv2YvZZ",
        "outputId": "134c275f-ba35-40eb-a835-9f82ef67f169",
        "colab": {
          "base_uri": "https://localhost:8080/",
          "height": 306
        }
      },
      "source": [
        "dataset.corr()"
      ],
      "execution_count": 5,
      "outputs": [
        {
          "output_type": "execute_result",
          "data": {
            "text/html": [
              "<div>\n",
              "<style scoped>\n",
              "    .dataframe tbody tr th:only-of-type {\n",
              "        vertical-align: middle;\n",
              "    }\n",
              "\n",
              "    .dataframe tbody tr th {\n",
              "        vertical-align: top;\n",
              "    }\n",
              "\n",
              "    .dataframe thead th {\n",
              "        text-align: right;\n",
              "    }\n",
              "</style>\n",
              "<table border=\"1\" class=\"dataframe\">\n",
              "  <thead>\n",
              "    <tr style=\"text-align: right;\">\n",
              "      <th></th>\n",
              "      <th>Pregnancies</th>\n",
              "      <th>Glucose</th>\n",
              "      <th>BloodPressure</th>\n",
              "      <th>SkinThickness</th>\n",
              "      <th>Insulin</th>\n",
              "      <th>BMI</th>\n",
              "      <th>DiabetesPedigreeFunction</th>\n",
              "      <th>Age</th>\n",
              "      <th>Outcome</th>\n",
              "    </tr>\n",
              "  </thead>\n",
              "  <tbody>\n",
              "    <tr>\n",
              "      <th>Pregnancies</th>\n",
              "      <td>1.000000</td>\n",
              "      <td>0.120405</td>\n",
              "      <td>0.149672</td>\n",
              "      <td>-0.063375</td>\n",
              "      <td>-0.076600</td>\n",
              "      <td>0.019475</td>\n",
              "      <td>-0.025453</td>\n",
              "      <td>0.539457</td>\n",
              "      <td>0.224437</td>\n",
              "    </tr>\n",
              "    <tr>\n",
              "      <th>Glucose</th>\n",
              "      <td>0.120405</td>\n",
              "      <td>1.000000</td>\n",
              "      <td>0.138044</td>\n",
              "      <td>0.062368</td>\n",
              "      <td>0.320371</td>\n",
              "      <td>0.226864</td>\n",
              "      <td>0.123243</td>\n",
              "      <td>0.254496</td>\n",
              "      <td>0.458421</td>\n",
              "    </tr>\n",
              "    <tr>\n",
              "      <th>BloodPressure</th>\n",
              "      <td>0.149672</td>\n",
              "      <td>0.138044</td>\n",
              "      <td>1.000000</td>\n",
              "      <td>0.198800</td>\n",
              "      <td>0.087384</td>\n",
              "      <td>0.281545</td>\n",
              "      <td>0.051331</td>\n",
              "      <td>0.238375</td>\n",
              "      <td>0.075958</td>\n",
              "    </tr>\n",
              "    <tr>\n",
              "      <th>SkinThickness</th>\n",
              "      <td>-0.063375</td>\n",
              "      <td>0.062368</td>\n",
              "      <td>0.198800</td>\n",
              "      <td>1.000000</td>\n",
              "      <td>0.448859</td>\n",
              "      <td>0.393760</td>\n",
              "      <td>0.178299</td>\n",
              "      <td>-0.111034</td>\n",
              "      <td>0.076040</td>\n",
              "    </tr>\n",
              "    <tr>\n",
              "      <th>Insulin</th>\n",
              "      <td>-0.076600</td>\n",
              "      <td>0.320371</td>\n",
              "      <td>0.087384</td>\n",
              "      <td>0.448859</td>\n",
              "      <td>1.000000</td>\n",
              "      <td>0.223012</td>\n",
              "      <td>0.192719</td>\n",
              "      <td>-0.085879</td>\n",
              "      <td>0.120924</td>\n",
              "    </tr>\n",
              "    <tr>\n",
              "      <th>BMI</th>\n",
              "      <td>0.019475</td>\n",
              "      <td>0.226864</td>\n",
              "      <td>0.281545</td>\n",
              "      <td>0.393760</td>\n",
              "      <td>0.223012</td>\n",
              "      <td>1.000000</td>\n",
              "      <td>0.125719</td>\n",
              "      <td>0.038987</td>\n",
              "      <td>0.276726</td>\n",
              "    </tr>\n",
              "    <tr>\n",
              "      <th>DiabetesPedigreeFunction</th>\n",
              "      <td>-0.025453</td>\n",
              "      <td>0.123243</td>\n",
              "      <td>0.051331</td>\n",
              "      <td>0.178299</td>\n",
              "      <td>0.192719</td>\n",
              "      <td>0.125719</td>\n",
              "      <td>1.000000</td>\n",
              "      <td>0.026569</td>\n",
              "      <td>0.155459</td>\n",
              "    </tr>\n",
              "    <tr>\n",
              "      <th>Age</th>\n",
              "      <td>0.539457</td>\n",
              "      <td>0.254496</td>\n",
              "      <td>0.238375</td>\n",
              "      <td>-0.111034</td>\n",
              "      <td>-0.085879</td>\n",
              "      <td>0.038987</td>\n",
              "      <td>0.026569</td>\n",
              "      <td>1.000000</td>\n",
              "      <td>0.236509</td>\n",
              "    </tr>\n",
              "    <tr>\n",
              "      <th>Outcome</th>\n",
              "      <td>0.224437</td>\n",
              "      <td>0.458421</td>\n",
              "      <td>0.075958</td>\n",
              "      <td>0.076040</td>\n",
              "      <td>0.120924</td>\n",
              "      <td>0.276726</td>\n",
              "      <td>0.155459</td>\n",
              "      <td>0.236509</td>\n",
              "      <td>1.000000</td>\n",
              "    </tr>\n",
              "  </tbody>\n",
              "</table>\n",
              "</div>"
            ],
            "text/plain": [
              "                          Pregnancies   Glucose  ...       Age   Outcome\n",
              "Pregnancies                  1.000000  0.120405  ...  0.539457  0.224437\n",
              "Glucose                      0.120405  1.000000  ...  0.254496  0.458421\n",
              "BloodPressure                0.149672  0.138044  ...  0.238375  0.075958\n",
              "SkinThickness               -0.063375  0.062368  ... -0.111034  0.076040\n",
              "Insulin                     -0.076600  0.320371  ... -0.085879  0.120924\n",
              "BMI                          0.019475  0.226864  ...  0.038987  0.276726\n",
              "DiabetesPedigreeFunction    -0.025453  0.123243  ...  0.026569  0.155459\n",
              "Age                          0.539457  0.254496  ...  1.000000  0.236509\n",
              "Outcome                      0.224437  0.458421  ...  0.236509  1.000000\n",
              "\n",
              "[9 rows x 9 columns]"
            ]
          },
          "metadata": {
            "tags": []
          },
          "execution_count": 5
        }
      ]
    },
    {
      "cell_type": "code",
      "metadata": {
        "id": "ln45s9XLdpfh",
        "outputId": "0ca8d994-c97f-4168-a3eb-aa92e6ae6247",
        "colab": {
          "base_uri": "https://localhost:8080/",
          "height": 406
        }
      },
      "source": [
        "sns.heatmap(dataset.corr())"
      ],
      "execution_count": 6,
      "outputs": [
        {
          "output_type": "execute_result",
          "data": {
            "text/plain": [
              "<matplotlib.axes._subplots.AxesSubplot at 0x7f4e96d576d8>"
            ]
          },
          "metadata": {
            "tags": []
          },
          "execution_count": 6
        },
        {
          "output_type": "display_data",
          "data": {
            "image/png": "[encoded data removed]",
            "text/plain": [
              "<Figure size 432x288 with 2 Axes>"
            ]
          },
          "metadata": {
            "tags": [],
            "needs_background": "light"
          }
        }
      ]
    },
    {
      "cell_type": "code",
      "metadata": {
        "id": "T5TglCJxY7wC",
        "outputId": "acc8b46a-ac6d-4f94-91c7-c245bdb7b978",
        "colab": {
          "base_uri": "https://localhost:8080/",
          "height": 66
        }
      },
      "source": [
        "y.value_counts()"
      ],
      "execution_count": 7,
      "outputs": [
        {
          "output_type": "execute_result",
          "data": {
            "text/plain": [
              "0    1316\n",
              "1     684\n",
              "Name: Outcome, dtype: int64"
            ]
          },
          "metadata": {
            "tags": []
          },
          "execution_count": 7
        }
      ]
    },
    {
      "cell_type": "code",
      "metadata": {
        "id": "fkdUB2WWaAO1",
        "outputId": "c548b3b9-1414-40ba-9c05-7dc0f8518378",
        "colab": {
          "base_uri": "https://localhost:8080/",
          "height": 1000
        }
      },
      "source": [
        "dataset.hist(figsize=(20,20));"
      ],
      "execution_count": 8,
      "outputs": [
        {
          "output_type": "display_data",
          "data": {
            "image/png": "[encoded data removed]",
            "text/plain": [
              "<Figure size 1440x1440 with 9 Axes>"
            ]
          },
          "metadata": {
            "tags": [],
            "needs_background": "light"
          }
        }
      ]
    },
    {
      "cell_type": "markdown",
      "metadata": {
        "id": "4PcuSaA_e6iu"
      },
      "source": [
        "# **Scaling Data**"
      ]
    },
    {
      "cell_type": "code",
      "metadata": {
        "id": "nbn6cRYOfAbl"
      },
      "source": [
        "from sklearn.preprocessing import StandardScaler\n",
        "sc=StandardScaler()\n",
        "X=sc.fit_transform(X)"
      ],
      "execution_count": 9,
      "outputs": []
    },
    {
      "cell_type": "markdown",
      "metadata": {
        "id": "52IAokXxiRur"
      },
      "source": [
        "# Spillting Data"
      ]
    },
    {
      "cell_type": "code",
      "metadata": {
        "id": "BpaCmk6hiVH2"
      },
      "source": [
        "from sklearn.model_selection import train_test_split\n",
        "X_train, X_test,y_train,y_test=train_test_split(X,y,test_size = 0.2, random_state = 42) \n",
        "train_scores = []\n",
        "test_scores = []"
      ],
      "execution_count": 10,
      "outputs": []
    },
    {
      "cell_type": "markdown",
      "metadata": {
        "id": "wCnYwGO6npgv"
      },
      "source": [
        "# Training the Logistic Regression model "
      ]
    },
    {
      "cell_type": "code",
      "metadata": {
        "id": "Or8rfCztnv7_",
        "outputId": "6e8b8dfa-a1c7-4737-f8fa-d35fc3f58b2d",
        "colab": {
          "base_uri": "https://localhost:8080/",
          "height": 330
        }
      },
      "source": [
        "from sklearn.linear_model import LogisticRegression\n",
        "classifier=LogisticRegression(random_state=0,C=1.0,max_iter=200)\n",
        "classifier.fit(X_train,y_train)\n",
        "\n",
        "# Predicting the Test set results\n",
        "y_pred = classifier.predict(X_test)\n",
        "\n",
        "#calculate the details Logistic Regression\n",
        "print('train_score classifier',classifier.score(X_train,y_train))\n",
        "print('test_score classifier',classifier.score(X_test,y_test))\n",
        "\n",
        "train_scores.append(classifier.score(X_train,y_train))\n",
        "test_scores.append(classifier.score(X_test,y_test))\n",
        "\n",
        "# Making the Confusion Matrix\n",
        "from sklearn.metrics import confusion_matrix\n",
        "cm = confusion_matrix(y_test,y_pred)\n",
        "print(cm)\n",
        "\n",
        "# drawing confusion matrix\n",
        "sns.heatmap(cm,center=True)\n",
        "plt.show()\n"
      ],
      "execution_count": 11,
      "outputs": [
        {
          "output_type": "stream",
          "text": [
            "train_score classifier 0.768125\n",
            "test_score classifier 0.79\n",
            "[[232  21]\n",
            " [ 63  84]]\n"
          ],
          "name": "stdout"
        },
        {
          "output_type": "display_data",
          "data": {
            "image/png": "[encoded data removed]",
            "text/plain": [
              "<Figure size 432x288 with 2 Axes>"
            ]
          },
          "metadata": {
            "tags": [],
            "needs_background": "light"
          }
        }
      ]
    },
    {
      "cell_type": "markdown",
      "metadata": {
        "id": "bk7vZxxMow7c"
      },
      "source": [
        "# Support Vector Machines (SVM)"
      ]
    },
    {
      "cell_type": "code",
      "metadata": {
        "id": "xVsu5OIzoybs",
        "outputId": "37f27506-52df-432f-d618-cf6fc1432632",
        "colab": {
          "base_uri": "https://localhost:8080/",
          "height": 330
        }
      },
      "source": [
        "from sklearn.svm import SVC\n",
        "svcmodel = SVC(kernel='rbf',degree=3)\n",
        "svcmodel.fit(X_train,y_train)\n",
        "\n",
        "# Predicting the Test set results SVM\n",
        "y_pred = svcmodel.predict(X_test)\n",
        "\n",
        "#calculate the details SVM\n",
        "print('train_score svcmodel', svcmodel.score(X_train,y_train))\n",
        "print('test_score svcmodel',svcmodel.score(X_test,y_test))\n",
        "\n",
        "train_scores.append(svcmodel.score(X_train,y_train))\n",
        "test_scores.append(svcmodel.score(X_test,y_test))\n",
        "\n",
        "# Making the Confusion Matrix\n",
        "from sklearn.metrics import confusion_matrix\n",
        "cm = confusion_matrix(y_test,y_pred)\n",
        "print(cm)\n",
        "\n",
        "# drawing confusion matrix\n",
        "sns.heatmap(cm,center=True)\n",
        "plt.show()\n"
      ],
      "execution_count": 12,
      "outputs": [
        {
          "output_type": "stream",
          "text": [
            "train_score svcmodel 0.8475\n",
            "test_score svcmodel 0.845\n",
            "[[237  16]\n",
            " [ 46 101]]\n"
          ],
          "name": "stdout"
        },
        {
          "output_type": "display_data",
          "data": {
            "image/png": "[encoded data removed]",
            "text/plain": [
              "<Figure size 432x288 with 2 Axes>"
            ]
          },
          "metadata": {
            "tags": [],
            "needs_background": "light"
          }
        }
      ]
    },
    {
      "cell_type": "markdown",
      "metadata": {
        "id": "PNgMCi8Ro608"
      },
      "source": [
        "# KNN"
      ]
    },
    {
      "cell_type": "code",
      "metadata": {
        "id": "NGNAOGLapMQu",
        "outputId": "898c6f81-4517-4d15-c0f8-048a7850d2b0",
        "colab": {
          "base_uri": "https://localhost:8080/",
          "height": 330
        }
      },
      "source": [
        "from sklearn.neighbors import KNeighborsClassifier\n",
        "Knnclassifier_model = KNeighborsClassifier(n_neighbors=100 )\n",
        "Knnclassifier_model.fit(X_train,y_train)\n",
        "\n",
        "# Predicting the Test set results KNeighborsClassifier\n",
        "y_pred = Knnclassifier_model.predict(X_test)\n",
        "\n",
        "#calculate the details KNeighborsClassifier\n",
        "print('train_score Knnclassifier_model', Knnclassifier_model.score(X_train,y_train))\n",
        "print('test_score Knnclassifier_model',Knnclassifier_model.score(X_test,y_test))\n",
        "\n",
        "train_scores.append(Knnclassifier_model.score(X_train,y_train))\n",
        "test_scores.append(Knnclassifier_model.score(X_test,y_test))\n",
        "\n",
        "\n",
        "# Making the Confusion Matrix\n",
        "from sklearn.metrics import confusion_matrix\n",
        "cm = confusion_matrix(y_test,y_pred)\n",
        "print(cm)\n",
        "\n",
        "# drawing confusion matrix\n",
        "sns.heatmap(cm,center=True)\n",
        "plt.show()"
      ],
      "execution_count": 13,
      "outputs": [
        {
          "output_type": "stream",
          "text": [
            "train_score Knnclassifier_model 0.76625\n",
            "test_score Knnclassifier_model 0.7525\n",
            "[[239  14]\n",
            " [ 85  62]]\n"
          ],
          "name": "stdout"
        },
        {
          "output_type": "display_data",
          "data": {
            "image/png": "[encoded data removed]",
            "text/plain": [
              "<Figure size 432x288 with 2 Axes>"
            ]
          },
          "metadata": {
            "tags": [],
            "needs_background": "light"
          }
        }
      ]
    },
    {
      "cell_type": "markdown",
      "metadata": {
        "id": "WzXODueToVcw"
      },
      "source": [
        ""
      ]
    },
    {
      "cell_type": "markdown",
      "metadata": {
        "id": "kzzlXdZ4pQIs"
      },
      "source": [
        "# Naive Bayes"
      ]
    },
    {
      "cell_type": "code",
      "metadata": {
        "id": "hechBC14pTdt",
        "outputId": "c6e03e8d-9841-4a2b-b443-e741ab8cdbfb",
        "colab": {
          "base_uri": "https://localhost:8080/",
          "height": 330
        }
      },
      "source": [
        "from sklearn.naive_bayes import GaussianNB\n",
        "gussian_model = GaussianNB(priors=None, var_smoothing=1e-09)\n",
        "gussian_model.fit(X_train,y_train)\n",
        "\n",
        "# Predicting the Test set results Naive Bayes\n",
        "y_pred = gussian_model.predict(X_test)\n",
        "\n",
        "#calculate the details Naive Bayes\n",
        "print('train_score gussian_model', gussian_model.score(X_train,y_train))\n",
        "print('test_score gussian_model',gussian_model.score(X_test,y_test))\n",
        "\n",
        "\n",
        "train_scores.append(gussian_model.score(X_train,y_train))\n",
        "test_scores.append(gussian_model.score(X_test,y_test))\n",
        "\n",
        "# Making the Confusion Matrix\n",
        "from sklearn.metrics import confusion_matrix\n",
        "cm = confusion_matrix(y_test,y_pred)\n",
        "print(cm)\n",
        "\n",
        "# drawing confusion matrix\n",
        "sns.heatmap(cm,center=True)\n",
        "plt.show()"
      ],
      "execution_count": 14,
      "outputs": [
        {
          "output_type": "stream",
          "text": [
            "train_score gussian_model 0.759375\n",
            "test_score gussian_model 0.7775\n",
            "[[220  33]\n",
            " [ 56  91]]\n"
          ],
          "name": "stdout"
        },
        {
          "output_type": "display_data",
          "data": {
            "image/png": "[encoded data removed]",
            "text/plain": [
              "<Figure size 432x288 with 2 Axes>"
            ]
          },
          "metadata": {
            "tags": [],
            "needs_background": "light"
          }
        }
      ]
    },
    {
      "cell_type": "markdown",
      "metadata": {
        "id": "zFNfftcxpb4j"
      },
      "source": [
        "# DecisionTreeClassifier"
      ]
    },
    {
      "cell_type": "code",
      "metadata": {
        "id": "vQx8fwYApgJq",
        "outputId": "265dc00f-4342-48b2-b8b8-526bde50a7e4",
        "colab": {
          "base_uri": "https://localhost:8080/",
          "height": 330
        }
      },
      "source": [
        "from sklearn.tree import DecisionTreeClassifier\n",
        "DT_model=DecisionTreeClassifier(criterion='entropy')\n",
        "DT_model.fit(X_train,y_train)\n",
        "\n",
        "# Predicting the Test set results DecisionTreeClassifier Model\n",
        "y_pred = DT_model.predict(X_test)\n",
        "\n",
        "#calculate the details DecisionTreeClassifier Model\n",
        "print('train_score DT_model', DT_model.score(X_train,y_train))\n",
        "print('test_score DT_model',DT_model.score(X_test,y_test))\n",
        "\n",
        "train_scores.append(DT_model.score(X_train,y_train))\n",
        "test_scores.append(DT_model.score(X_test,y_test))\n",
        "\n",
        "# Making the Confusion Matrix\n",
        "from sklearn.metrics import confusion_matrix\n",
        "cm = confusion_matrix(y_test,y_pred)\n",
        "print(cm)\n",
        "\n",
        "# drawing confusion matrix\n",
        "sns.heatmap(cm,center=True)\n",
        "plt.show()"
      ],
      "execution_count": 15,
      "outputs": [
        {
          "output_type": "stream",
          "text": [
            "train_score DT_model 1.0\n",
            "test_score DT_model 0.975\n",
            "[[245   8]\n",
            " [  2 145]]\n"
          ],
          "name": "stdout"
        },
        {
          "output_type": "display_data",
          "data": {
            "image/png": "[encoded data removed]",
            "text/plain": [
              "<Figure size 432x288 with 2 Axes>"
            ]
          },
          "metadata": {
            "tags": [],
            "needs_background": "light"
          }
        }
      ]
    },
    {
      "cell_type": "markdown",
      "metadata": {
        "id": "ALJRAoMqppWX"
      },
      "source": [
        "# NNClassifier"
      ]
    },
    {
      "cell_type": "code",
      "metadata": {
        "id": "C9QigidlpuIT",
        "outputId": "e704d192-583a-42e7-eaae-55247bb5f356",
        "colab": {
          "base_uri": "https://localhost:8080/",
          "height": 382
        }
      },
      "source": [
        "from sklearn.neural_network import MLPClassifier\n",
        "\n",
        "mlp_model = MLPClassifier(hidden_layer_sizes=100 ,activation='relu',alpha=0.01,epsilon=1E-08)\n",
        "mlp_model.fit(X_train,y_train)\n",
        "\n",
        "# Predicting the Test set results NNClassifier Model\n",
        "y_pred = mlp_model.predict(X_test)\n",
        "\n",
        "#calculate the details NNClassifier Model\n",
        "print('train_score mlp_model', mlp_model.score(X_train,y_train))\n",
        "print('test_score mlp_model',mlp_model.score(X_test,y_test))\n",
        "\n",
        "train_scores.append(mlp_model.score(X_train,y_train))\n",
        "test_scores.append(mlp_model.score(X_test,y_test))\n",
        "\n",
        "# Making the Confusion Matrix\n",
        "from sklearn.metrics import confusion_matrix\n",
        "cm = confusion_matrix(y_test,y_pred)\n",
        "print(cm)\n",
        "\n",
        "# drawing confusion matrix\n",
        "sns.heatmap(cm,center=True)\n",
        "plt.show()"
      ],
      "execution_count": 16,
      "outputs": [
        {
          "output_type": "stream",
          "text": [
            "/usr/local/lib/python3.6/dist-packages/sklearn/neural_network/_multilayer_perceptron.py:571: ConvergenceWarning: Stochastic Optimizer: Maximum iterations (200) reached and the optimization hasn't converged yet.\n",
            "  % self.max_iter, ConvergenceWarning)\n"
          ],
          "name": "stderr"
        },
        {
          "output_type": "stream",
          "text": [
            "train_score mlp_model 0.85625\n",
            "test_score mlp_model 0.84\n",
            "[[229  24]\n",
            " [ 40 107]]\n"
          ],
          "name": "stdout"
        },
        {
          "output_type": "display_data",
          "data": {
            "image/png": "[encoded data removed]",
            "text/plain": [
              "<Figure size 432x288 with 2 Axes>"
            ]
          },
          "metadata": {
            "tags": [],
            "needs_background": "light"
          }
        }
      ]
    },
    {
      "cell_type": "markdown",
      "metadata": {
        "id": "qwYQOwsYp4DQ"
      },
      "source": [
        "# RandomForestClassifier"
      ]
    },
    {
      "cell_type": "code",
      "metadata": {
        "id": "IsGwAj_Mp7PX",
        "outputId": "dc8b3f96-9e70-4bf0-db97-b24bdfcdd20f",
        "colab": {
          "base_uri": "https://localhost:8080/",
          "height": 330
        }
      },
      "source": [
        "from sklearn.ensemble import RandomForestClassifier\n",
        "\n",
        "rfc= RandomForestClassifier(criterion='gini',n_estimators=200,max_depth=3)\n",
        "rfc.fit(X_train,y_train)\n",
        "\n",
        "# Predicting the Test set results RandomForestClassifier Model\n",
        "y_pred = rfc.predict(X_test)\n",
        "\n",
        "#calculate the details RandomForestClassifier Model\n",
        "print('train_score rfc', rfc.score(X_train,y_train))\n",
        "print('test_score rfc',rfc.score(X_test,y_test))\n",
        "\n",
        "train_scores.append(rfc.score(X_train,y_train))\n",
        "test_scores.append(rfc.score(X_test,y_test))\n",
        "\n",
        "# Making the Confusion Matrix\n",
        "from sklearn.metrics import confusion_matrix\n",
        "cm = confusion_matrix(y_test,y_pred)\n",
        "print(cm)\n",
        "\n",
        "# drawing confusion matrix\n",
        "sns.heatmap(cm,center=True)\n",
        "plt.show()"
      ],
      "execution_count": 17,
      "outputs": [
        {
          "output_type": "stream",
          "text": [
            "train_score rfc 0.795\n",
            "test_score rfc 0.7825\n",
            "[[238  15]\n",
            " [ 72  75]]\n"
          ],
          "name": "stdout"
        },
        {
          "output_type": "display_data",
          "data": {
            "image/png": "[encoded data removed]",
            "text/plain": [
              "<Figure size 432x288 with 2 Axes>"
            ]
          },
          "metadata": {
            "tags": [],
            "needs_background": "light"
          }
        }
      ]
    },
    {
      "cell_type": "markdown",
      "metadata": {
        "id": "t4sWN9gWqUnO"
      },
      "source": [
        "# visualization"
      ]
    },
    {
      "cell_type": "code",
      "metadata": {
        "id": "LozEGF4gqZym",
        "outputId": "68ce55b8-a706-4a78-de73-e2803a456e97",
        "colab": {
          "base_uri": "https://localhost:8080/",
          "height": 583
        }
      },
      "source": [
        "Labels = ['classifier', 'svcmodel', 'Knnclassifier_model', 'gussian_model','DT_model','mlp_model','rfc']\n",
        "X = np.arange(1,8)\n",
        "fig = plt.figure(figsize=(10,7))\n",
        "ax = fig.add_axes([0,0,1,1])\n",
        "plt.style.context('ggplot')\n",
        "ax.bar(X + 0.00, train_scores, color = 'b', width = 0.45,label = 'train Score')\n",
        "ax.bar(X + 0.40, test_scores, color = 'r', width = 0.45,label = 'test Score')\n",
        "for i,m in list(zip(X,train_scores)):\n",
        "  plt.text(x = i ,y = m,s = float(\"{:.2f}\".format(m)))\n",
        "for i,m in list(zip(X,test_scores)):\n",
        "  plt.text(x = i + 0.45 ,y = m,s = float(\"{:.2f}\".format(m)))\n",
        "ax.set_xlabel('Models')\n",
        "ax.set_ylabel('Scores')\n",
        "ax.set_xticks(X)\n",
        "ax.set_xticklabels(Labels)\n",
        "plt.legend()"
      ],
      "execution_count": 18,
      "outputs": [
        {
          "output_type": "execute_result",
          "data": {
            "text/plain": [
              "<matplotlib.legend.Legend at 0x7f4e8ea58390>"
            ]
          },
          "metadata": {
            "tags": []
          },
          "execution_count": 18
        },
        {
          "output_type": "display_data",
          "data": {
            "image/png": "[encoded data removed]",
            "text/plain": [
              "<Figure size 720x504 with 1 Axes>"
            ]
          },
          "metadata": {
            "tags": [],
            "needs_background": "light"
          }
        }
      ]
    }
  ]
}